{
 "cells": [
  {
   "cell_type": "markdown",
   "metadata": {},
   "source": [
    "# Python Summer Course Homework"
   ]
  },
  {
   "cell_type": "markdown",
   "metadata": {},
   "source": [
    "This assignment is designed to help you increase your understanding of Python and improve your programming skills.\n",
    "\n",
    "It ultimately requires you to implement a feature-rich matrix calculator. \n",
    "Of course, at first you may only be able to implement some of the simplest operations, but as you learn more in the lecture, you would be able to implement your code in more complex way.\n",
    "\n",
    "We provide necessary explanations in each section to help you understand what you required to do.\n",
    "\n",
    "Also, we will introduce *numpy*, an extremely useful package that you probably would use frequently in future.\n",
    "\n",
    "#### In this assignment, the output by using numpy would be the standard answer help you check if you wrote the code properly. Thus, please do not use any function or type from numpy library in this assignment unless we announce an extra hint.\n",
    "\n",
    "\n",
    "\n"
   ]
  },
  {
   "cell_type": "markdown",
   "metadata": {},
   "source": [
    "## 1. Introdoction"
   ]
  },
  {
   "cell_type": "markdown",
   "metadata": {},
   "source": [
    "Firstly, let's get familiar with matrices in Python!"
   ]
  },
  {
   "cell_type": "markdown",
   "metadata": {},
   "source": [
    "### 1.1 Types"
   ]
  },
  {
   "cell_type": "markdown",
   "metadata": {},
   "source": [
    "There might be several types in a matrix, for example: "
   ]
  },
  {
   "cell_type": "code",
   "execution_count": null,
   "metadata": {},
   "outputs": [],
   "source": [
    "a = int(0)\n",
    "b = float(0)\n",
    "c = complex(0)"
   ]
  },
  {
   "cell_type": "markdown",
   "metadata": {},
   "source": [
    "Now, please write your code to check the relationship between *a* and *b* and *c*."
   ]
  },
  {
   "cell_type": "code",
   "execution_count": null,
   "metadata": {},
   "outputs": [],
   "source": []
  },
  {
   "cell_type": "markdown",
   "metadata": {},
   "source": [
    "### 1.2 Rows"
   ]
  },
  {
   "cell_type": "markdown",
   "metadata": {},
   "source": [
    "To implement a primitive row structure in python, we might use the *list* type."
   ]
  },
  {
   "cell_type": "code",
   "execution_count": null,
   "metadata": {},
   "outputs": [],
   "source": [
    "row = [1, 2, 3]"
   ]
  },
  {
   "cell_type": "markdown",
   "metadata": {},
   "source": [
    "### 1.3 Columns"
   ]
  },
  {
   "cell_type": "markdown",
   "metadata": {},
   "source": [
    "Column can also be considered as a list, but its elements are rows(defined as *list*), instead of numbers."
   ]
  },
  {
   "cell_type": "code",
   "execution_count": null,
   "metadata": {},
   "outputs": [],
   "source": [
    "col = [[], [], []]"
   ]
  },
  {
   "cell_type": "markdown",
   "metadata": {},
   "source": [
    "### 1.4 Complete Matrix"
   ]
  },
  {
   "cell_type": "markdown",
   "metadata": {},
   "source": [
    "Now you are able to represent a complete matrix with a 2-dimensional list."
   ]
  },
  {
   "cell_type": "code",
   "execution_count": null,
   "metadata": {},
   "outputs": [],
   "source": [
    "matrix = [[1, 2], [3, 4], [5, 6]]"
   ]
  },
  {
   "cell_type": "markdown",
   "metadata": {},
   "source": [
    "### 1.5 Numpy"
   ]
  },
  {
   "cell_type": "markdown",
   "metadata": {},
   "source": [
    "We will use this library to provide you correct answers for reference.\n",
    "\n",
    "To import this library, please run the code below:"
   ]
  },
  {
   "cell_type": "code",
   "execution_count": null,
   "metadata": {},
   "outputs": [],
   "source": [
    "import numpy as np"
   ]
  },
  {
   "cell_type": "markdown",
   "metadata": {},
   "source": [
    "### 1.6 Helper function\n",
    "Please run the code below for help you check if your output is correct."
   ]
  },
  {
   "cell_type": "code",
   "execution_count": null,
   "metadata": {},
   "outputs": [],
   "source": [
    "def check(a, b):\n",
    "    if a == b:\n",
    "        print(\"Your answer is correct\")\n",
    "    else:\n",
    "        print(\"Your answer is wrong\")"
   ]
  },
  {
   "cell_type": "markdown",
   "metadata": {},
   "source": [
    "## 2. Simple Calculation"
   ]
  },
  {
   "cell_type": "markdown",
   "metadata": {},
   "source": [
    "First, let us set two example matrices:"
   ]
  },
  {
   "cell_type": "code",
   "execution_count": null,
   "metadata": {},
   "outputs": [],
   "source": [
    "x = [[0, 1, 2], [3, 4, 5], [6, 7, 8]]\n",
    "y = [[0, 3, 6], [1, 4, 7], [2, 5, 8]]"
   ]
  },
  {
   "cell_type": "markdown",
   "metadata": {},
   "source": [
    "### 2.1 Addition"
   ]
  },
  {
   "cell_type": "code",
   "execution_count": null,
   "metadata": {},
   "outputs": [],
   "source": [
    "# your goal is to do: z1 = x + y\n",
    "\n",
    "z1 = # TODO"
   ]
  },
  {
   "cell_type": "markdown",
   "metadata": {},
   "source": [
    "Check your answer:"
   ]
  },
  {
   "cell_type": "code",
   "execution_count": null,
   "metadata": {},
   "outputs": [],
   "source": [
    "correct_z1 = (np.array(x) + np.array(y)).tolist()\n",
    "check(z1, correct_z1)\n",
    "\n",
    "# you can use this print statement to see the correct answer\n",
    "# print(correct_z1)"
   ]
  },
  {
   "cell_type": "markdown",
   "metadata": {},
   "source": [
    "### 2.2 Subtraction"
   ]
  },
  {
   "cell_type": "code",
   "execution_count": null,
   "metadata": {},
   "outputs": [],
   "source": [
    "# your goal is to do: z2 = x - y\n",
    "\n",
    "z2 = # TODO"
   ]
  },
  {
   "cell_type": "markdown",
   "metadata": {},
   "source": [
    "Check your answer:"
   ]
  },
  {
   "cell_type": "code",
   "execution_count": null,
   "metadata": {},
   "outputs": [],
   "source": [
    "correct_z2 = (np.array(x) - np.array(y)).tolist()\n",
    "check(z2, correct_z2)\n",
    "\n",
    "# you can use this print statement to see the correct answer\n",
    "# print(correct_z2)"
   ]
  },
  {
   "cell_type": "markdown",
   "metadata": {},
   "source": [
    "### 2.3 Scaler Multiplication"
   ]
  },
  {
   "cell_type": "code",
   "execution_count": null,
   "metadata": {},
   "outputs": [],
   "source": [
    "# your goal is to do: z3 = 100 * x\n",
    "\n",
    "z3 = # TODO"
   ]
  },
  {
   "cell_type": "markdown",
   "metadata": {},
   "source": [
    "Check your answer:"
   ]
  },
  {
   "cell_type": "code",
   "execution_count": null,
   "metadata": {},
   "outputs": [],
   "source": [
    "correct_z3 = (100 * np.array(x)).tolist()\n",
    "check(z3, correct_z3)\n",
    "\n",
    "# you can use this print statement to see the correct answer\n",
    "# print(correct_z3)"
   ]
  },
  {
   "cell_type": "markdown",
   "metadata": {},
   "source": [
    "### 2.4 *Dot Multiplication\n",
    "This might be a little bit trickier than others above."
   ]
  },
  {
   "cell_type": "code",
   "execution_count": null,
   "metadata": {},
   "outputs": [],
   "source": [
    "# your goal is to do: z4 = x * y\n",
    "\n",
    "z4 = # TODO"
   ]
  },
  {
   "cell_type": "markdown",
   "metadata": {},
   "source": [
    "Check your answer:"
   ]
  },
  {
   "cell_type": "code",
   "execution_count": null,
   "metadata": {},
   "outputs": [],
   "source": [
    "correct_z4 = (np.array(x) * np.array(y)).tolist()\n",
    "check(z4, correct_z4)\n",
    "\n",
    "# you can use this print statement to see the correct answer\n",
    "# print(correct_z4)"
   ]
  },
  {
   "cell_type": "markdown",
   "metadata": {},
   "source": [
    "## 3. Implement Functions"
   ]
  },
  {
   "cell_type": "markdown",
   "metadata": {},
   "source": [
    "First, we use *numpy* to generate 3 random matrices:"
   ]
  },
  {
   "cell_type": "code",
   "execution_count": null,
   "metadata": {},
   "outputs": [],
   "source": [
    "x = np.random.randint(low = 0, high = 10, size = (3, 4))\n",
    "y = np.random.randint(low = 0, high = 10, size = (3, 4))\n",
    "z = np.random.randint(low = 0, high = 10, size = (4, 3))"
   ]
  },
  {
   "cell_type": "code",
   "execution_count": null,
   "metadata": {},
   "outputs": [],
   "source": [
    "# print if you want\n",
    "print(x)\n",
    "print('-----------')\n",
    "print(y)\n",
    "print('-----------')\n",
    "print(z)"
   ]
  },
  {
   "cell_type": "markdown",
   "metadata": {},
   "source": [
    "Now, please implement functions to for encapsulation (the wrapping up)."
   ]
  },
  {
   "cell_type": "code",
   "execution_count": null,
   "metadata": {},
   "outputs": [],
   "source": [
    "def matrix_add(x, y):\n",
    "    # TODO\n",
    "    \n",
    "def matrix_sub(x, y):\n",
    "    # TODO\n",
    "    \n",
    "def matrix_mul(a, x):\n",
    "    # TODO\n",
    "\n",
    "def matrix_dot(x, y):\n",
    "    # TODO"
   ]
  },
  {
   "cell_type": "markdown",
   "metadata": {},
   "source": [
    "Now test your code:"
   ]
  },
  {
   "cell_type": "code",
   "execution_count": null,
   "metadata": {},
   "outputs": [],
   "source": [
    "check(matrix_add(x, y), np.add(x, y).tolist())\n",
    "check(matrix_sub(x, y), np.subtract(x, y).tolist())\n",
    "check(matrix_mul(15, x), np.multiply(15, x).tolist())\n",
    "check(matrix_dot(y, z), np.dot(y, z).tolist())"
   ]
  }
 ],
 "metadata": {
  "kernelspec": {
   "display_name": "Python 3",
   "language": "python",
   "name": "python3"
  },
  "language_info": {
   "codemirror_mode": {
    "name": "ipython",
    "version": 3
   },
   "file_extension": ".py",
   "mimetype": "text/x-python",
   "name": "python",
   "nbconvert_exporter": "python",
   "pygments_lexer": "ipython3",
   "version": "3.6.0"
  }
 },
 "nbformat": 4,
 "nbformat_minor": 2
}
